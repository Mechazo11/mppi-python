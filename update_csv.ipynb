{
 "cells": [
  {
   "cell_type": "code",
   "execution_count": null,
   "metadata": {},
   "outputs": [
    {
     "name": "stdout",
     "output_type": "stream",
     "text": [
      "        x    y  yaw  ref_v\n",
      "0     0.0  0.0  0.0    3.5\n",
      "1     0.1  0.0  0.0    3.5\n",
      "2     0.2  0.0  0.0    3.5\n",
      "3     0.3  0.0  0.0    3.5\n",
      "4     0.4  0.0  0.0    3.5\n",
      "...   ...  ...  ...    ...\n",
      "1196 -0.4  0.0  0.0    3.5\n",
      "1197 -0.3  0.0  0.0    3.5\n",
      "1198 -0.2  0.0  0.0    3.5\n",
      "1199 -0.1  0.0  0.0    3.5\n",
      "1200  0.0  0.0  0.0    3.5\n",
      "\n",
      "[1201 rows x 4 columns]\n"
     ]
    }
   ],
   "source": [
    "import pandas as pd\n",
    "\n",
    "# Load the CSV file\n",
    "df = pd.read_csv('./data/ovalpath_diff.csv')\n",
    "\n",
    "# Set all 'ref_v' values to 3.5\n",
    "df['ref_v'] = 4.5\n",
    "\n",
    "# Save the updated DataFrame back to the CSV file if needed\n",
    "df.to_csv('./data/ovalpath_diff.csv', index=False)\n",
    "\n",
    "# Display the updated DataFrame (optional)\n",
    "print(df)"
   ]
  }
 ],
 "metadata": {
  "kernelspec": {
   "display_name": "ee7500_proj",
   "language": "python",
   "name": "python3"
  },
  "language_info": {
   "codemirror_mode": {
    "name": "ipython",
    "version": 3
   },
   "file_extension": ".py",
   "mimetype": "text/x-python",
   "name": "python",
   "nbconvert_exporter": "python",
   "pygments_lexer": "ipython3",
   "version": "3.12.6"
  }
 },
 "nbformat": 4,
 "nbformat_minor": 2
}
